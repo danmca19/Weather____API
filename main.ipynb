
{
 "cells": [
  {
   "cell_type": "markdown",
   "metadata": {
    "vscode": {
     "languageId": "plaintext"
    }
   },
   "source": [
    "# API\n",
    "\n",
    "MÉTODO: GET, pegar dados\n",
    "\n",
    "ENDEREÇO: https://api.openweathermap.org/data/2.5/weather?lat={lat}&lon={lon}&appid={API key}\n",
    "\n",
    "CABEÇALHO:\n",
    "\n",
    "PARAMETROS:\n",
    "\n",
    "lat = \n",
    "\n",
    "lon = \n",
    "\n",
    "appid = 80fe3e069a855688e9045f3c9e97b42e"
   ]
  },
  {
   "cell_type": "code",
   "execution_count": 1,
   "metadata": {
    "tags": []
   },
   "outputs": [],
   "source": [
    "import requests\n",
    "import pandas as pd"
   ]
  },
  {
   "cell_type": "code",
   "execution_count": null,
   "metadata": {},
   "outputs": [],
   "source": [
    "# REQUESTS: BIBLIOTECA PARA FAZER REQUISIÇÕES, CHAMADAS EM APIS"
   ]
  },
  {
   "cell_type": "code",
   "execution_count": 2,
   "metadata": {
    "tags": []
   },
   "outputs": [],
   "source": [
    "# Requisição do LAT LON\n",
    "\n",
    "api_key = '80fe3e069a855688e9045f3c9e97b42e'\n",
    "\n",
    "url = f'http://api.openweathermap.org/geo/1.0/direct?q=Campinas&appid={api_key}'\n",
    "\n",
    "resp = requests.request(method = 'get', url = url)"
   ]
  },
  {
   "cell_type": "code",
   "execution_count": 3,
   "metadata": {
    "tags": []
   },
   "outputs": [],
   "source": [
    "# Requisição das temperaturas (1)\n",
    "\n",
    "api_key = '80fe3e069a855688e9045f3c9e97b42e'\n",
    "\n",
    "lat = resp.json()[0]['lat']\n",
    "\n",
    "lon = resp.json()[0]['lon']\n",
    "\n",
    "url = f'https://api.openweathermap.org/data/2.5/weather?lat={lat}&lon={lon}&appid={api_key}&units=metric'\n",
    "\n",
    "resp2 = requests.request(method = 'get', url = url)"
   ]
  },
  {
   "cell_type": "code",
   "execution_count": 4,
   "metadata": {
    "tags": []
   },
   "outputs": [],
   "source": [
    "# OU\n",
    "# Requisição das temperaturas (2)\n",
    "\n",
    "api_key = '80fe3e069a855688e9045f3c9e97b42e'\n",
    "\n",
    "lat = resp.json()[0]['lat']\n",
    "\n",
    "lon = resp.json()[0]['lon']\n",
    "\n",
    "url = f'https://api.openweathermap.org/data/2.5/weather?'\n",
    "\n",
    "params = {'lat': lat,\n",
    "          'lon': lon,\n",
    "          'appid': api_key,\n",
    "          'units': 'metric'}\n",
    "\n",
    "resp2 = requests.request(method = 'get', url = url, params = params)"
   ]
  },
  {
   "cell_type": "code",
   "execution_count": 5,
   "metadata": {
    "tags": []
   },
   "outputs": [
    {
     "data": {
      "text/plain": [
       "26.89"
      ]
     },
     "execution_count": 5,
     "metadata": {},
     "output_type": "execute_result"
    }
   ],
   "source": [
    "resp2.json()['main']['temp']"
   ]
  },
  {
   "cell_type": "code",
   "execution_count": 6,
   "metadata": {
    "tags": []
   },
   "outputs": [
    {
     "data": {
      "text/plain": [
       "28.01"
      ]
     },
     "execution_count": 6,
     "metadata": {},
     "output_type": "execute_result"
    }
   ],
   "source": [
    "resp2.json()['main']['feels_like']"
   ]
  },
  {
   "cell_type": "code",
   "execution_count": 7,
   "metadata": {
    "tags": []
   },
   "outputs": [
    {
     "data": {
      "text/plain": [
       "'Campinas'"
      ]
     },
     "execution_count": 7,
     "metadata": {},
     "output_type": "execute_result"
    }
   ],
   "source": [
    "resp2.json()['name']"
   ]
  },
  {
   "cell_type": "markdown",
   "metadata": {},
   "source": [
    "# Generalização do Código"
   ]
  },
  {
   "cell_type": "code",
   "execution_count": 8,
   "metadata": {
    "tags": []
   },
   "outputs": [],
   "source": [
    "city_list = ['Campinas', 'Sao Paulo', 'Rio de Janeiro']"
   ]
  },
  {
   "cell_type": "code",
   "execution_count": 9,
   "metadata": {
    "tags": []
   },
   "outputs": [],
   "source": [
    "# Requisição do LAT LON\n",
    "\n",
    "api_key = '80fe3e069a855688e9045f3c9e97b42e'\n",
    "\n",
    "city_data = []\n",
    "\n",
    "for city in city_list:\n",
    "\n",
    "    url = f'http://api.openweathermap.org/geo/1.0/direct?q={city}&appid={api_key}'\n",
    "\n",
    "    resp = requests.request(method = 'get', url = url)\n",
    "\n",
    "    resp_json = resp.json()\n",
    "\n",
    "    lat = resp_json[0]['lat']\n",
    "\n",
    "    lon = resp_json[0]['lon']\n",
    "\n",
    "    data = {'name': city,\n",
    "            'lat': lat,\n",
    "            'lon': lon}\n",
    "    \n",
    "    city_data.append(data)\n",
    "\n",
    "city_df = pd.DataFrame(city_data)"
   ]
  },
  {
   "cell_type": "code",
   "execution_count": 10,
   "metadata": {
    "tags": []
   },
   "outputs": [
    {
     "data": {
      "text/plain": [
       "[{'name': 'Campinas', 'lat': -22.90556, 'lon': -47.06083},\n",
       " {'name': 'Sao Paulo', 'lat': -23.5506507, 'lon': -46.6333824},\n",
       " {'name': 'Rio de Janeiro', 'lat': -22.9110137, 'lon': -43.2093727}]"
      ]
     },
     "execution_count": 10,
     "metadata": {},
     "output_type": "execute_result"
    }
   ],
   "source": [
    "city_data"
   ]
  },
  {
   "cell_type": "code",
   "execution_count": 11,
   "metadata": {
    "tags": []
   },
   "outputs": [],
   "source": [
    "wheater_data = []\n",
    "\n",
    "for city in city_data:\n",
    "\n",
    "    url = f'https://api.openweathermap.org/data/2.5/weather?'\n",
    "\n",
    "    params = {'lat': city['lat'],\n",
    "              'lon': city['lon'],\n",
    "              'appid': api_key,\n",
    "              'units': 'metric'}\n",
    "\n",
    "    resp = requests.request(method = 'get', url = url, params = params)\n",
    "\n",
    "    resp_json = resp.json()\n",
    "\n",
    "    data = {'city': city['name'],\n",
    "            'temp': resp_json['main']['temp'],\n",
    "            'feels_like': resp_json['main']['feels_like']}\n",
    "    \n",
    "    wheater_data.append(data)\n",
    "    "
   ]
  },
  {
   "cell_type": "code",
   "execution_count": 12,
   "metadata": {
    "tags": []
   },
   "outputs": [],
   "source": [
    "weather_df = pd.DataFrame(wheater_data)"
   ]
  },
  {
   "cell_type": "code",
   "execution_count": 13,
   "metadata": {
    "tags": []
   },
   "outputs": [],
   "source": [
    "# Regra de negócio: se a temperatura for maior ou igual a 27ºC, aumenta bid.\n",
    "\n",
    "weather_df['adjust_bid'] = weather_df[['temp', 'feels_like']].apply(lambda x: 1.5 if (x['temp'] >= 27 or x['feels_like'] >= 27) else 0.5, axis = 1)"
   ]
  },
  {
   "cell_type": "code",
   "execution_count": 14,
   "metadata": {
    "tags": []
   },
   "outputs": [
    {
     "data": {
      "text/html": [
       "<div>\n",
       "<style scoped>\n",
       "    .dataframe tbody tr th:only-of-type {\n",
       "        vertical-align: middle;\n",
       "    }\n",
       "\n",
       "    .dataframe tbody tr th {\n",
       "        vertical-align: top;\n",
       "    }\n",
       "\n",
       "    .dataframe thead th {\n",
       "        text-align: right;\n",
       "    }\n",
       "</style>\n",
       "<table border=\"1\" class=\"dataframe\">\n",
       "  <thead>\n",
       "    <tr style=\"text-align: right;\">\n",
       "      <th></th>\n",
       "      <th>city</th>\n",
       "      <th>temp</th>\n",
       "      <th>feels_like</th>\n",
       "      <th>adjust_bid</th>\n",
       "    </tr>\n",
       "  </thead>\n",
       "  <tbody>\n",
       "    <tr>\n",
       "      <th>0</th>\n",
       "      <td>Campinas</td>\n",
       "      <td>26.89</td>\n",
       "      <td>28.01</td>\n",
       "      <td>1.5</td>\n",
       "    </tr>\n",
       "    <tr>\n",
       "      <th>1</th>\n",
       "      <td>Sao Paulo</td>\n",
       "      <td>24.68</td>\n",
       "      <td>25.29</td>\n",
       "      <td>0.5</td>\n",
       "    </tr>\n",
       "    <tr>\n",
       "      <th>2</th>\n",
       "      <td>Rio de Janeiro</td>\n",
       "      <td>25.94</td>\n",
       "      <td>26.60</td>\n",
       "      <td>0.5</td>\n",
       "    </tr>\n",
       "  </tbody>\n",
       "</table>\n",
       "</div>"
      ],
      "text/plain": [
       "             city   temp  feels_like  adjust_bid\n",
       "0        Campinas  26.89       28.01         1.5\n",
       "1       Sao Paulo  24.68       25.29         0.5\n",
       "2  Rio de Janeiro  25.94       26.60         0.5"
      ]
     },
     "execution_count": 14,
     "metadata": {},
     "output_type": "execute_result"
    }
   ],
   "source": [
    "weather_df"
   ]
  },
  {
   "cell_type": "code",
   "execution_count": null,
   "metadata": {},
   "outputs": [],
   "source": []
  }
 ],
 "metadata": {
  "kernelspec": {
   "display_name": "Python 3 (ipykernel)",
   "language": "python",
   "name": "python3"
  },
  "language_info": {
   "codemirror_mode": {
    "name": "ipython",
    "version": 3
   },
   "file_extension": ".py",
   "mimetype": "text/x-python",
   "name": "python",
   "nbconvert_exporter": "python",
   "pygments_lexer": "ipython3",
   "version": "3.11.4"
  }
 },
 "nbformat": 4,
 "nbformat_minor": 4
}
